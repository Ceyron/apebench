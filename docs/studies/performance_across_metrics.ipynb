{
 "cells": [
  {
   "cell_type": "markdown",
   "metadata": {},
   "source": [
    "# Performance across metrics\n",
    "\n",
    "This notebook shows what a difference it can make when comparing different metrics"
   ]
  },
  {
   "cell_type": "code",
   "execution_count": null,
   "metadata": {},
   "outputs": [],
   "source": [
    "import apebench\n",
    "import jax\n",
    "import jax.numpy as jnp\n",
    "import seaborn as sns\n",
    "import matplotlib.pyplot as plt\n",
    "from scipy import stats\n",
    "import pandas as pd"
   ]
  },
  {
   "cell_type": "markdown",
   "metadata": {},
   "source": [
    "RMSE is always a good choice because it is consistent with the L2 function norm!"
   ]
  },
  {
   "cell_type": "code",
   "execution_count": null,
   "metadata": {},
   "outputs": [],
   "source": [
    "REPORT_METRICS = \",\".join(\n",
    "    [\n",
    "        # Normalized metrics, always a good starting point\n",
    "        \"mean_nRMSE\",\n",
    "        \"mean_nMAE\",\n",
    "        \"mean_nMSE\",\n",
    "        # Absolute metrics, be careful!\n",
    "        \"mean_RMSE\",\n",
    "        \"mean_MAE\",\n",
    "        \"mean_MSE\",\n",
    "        # Symmetric metrics: bounded range, nice!\n",
    "        \"mean_sRMSE\",\n",
    "        \"mean_sMSE\",\n",
    "        \"mean_sMAE\",\n",
    "        # Frequency range of the bandlimited initial condition\n",
    "        \"mean_fourier_nRMSE;0;5;0\",\n",
    "        \"mean_fourier_RMSE;0;5;0\",\n",
    "        # Frequency range slightly above the bandlimited initial condition, caution!\n",
    "        # Cannot use normalized metric because the reference is zero! Linear PDEs on\n",
    "        # periodic BCs remain bandlimited\n",
    "        \"mean_fourier_RMSE;6;10;0\",\n",
    "        # All frequencies beyond\n",
    "        \"mean_fourier_RMSE;11;81;0\",\n",
    "        # How do the derivatives match?\n",
    "        \"mean_fourier_RMSE;0;5;1\",\n",
    "        \"mean_fourier_RMSE;0;5;2\",\n",
    "        \"mean_fourier_RMSE;0;81;1\",\n",
    "        \"mean_fourier_RMSE;0;81;2\",\n",
    "        # Sobolev\n",
    "        \"mean_H1_RMSE\",\n",
    "    ]\n",
    ")\n",
    "CONFIGS = [\n",
    "    {\n",
    "        \"scenario\": \"diff_adv\",\n",
    "        \"task\": \"predict\",\n",
    "        \"net\": \"Res;26;8;relu\",  # 32'943 params, 16 receptive field per direction\n",
    "        \"start_seed\": s,\n",
    "        \"num_seeds\": 10,\n",
    "        \"report_metrics\": REPORT_METRICS,\n",
    "    }\n",
    "    for s in [\n",
    "        0,\n",
    "    ]  # 10, 20, 30, 40]\n",
    "    for (num_training_steps, unrolled_steps) in [\n",
    "        (10_0, 5),\n",
    "        # (50_000, 1),\n",
    "        # (10_000, 1),\n",
    "    ]\n",
    "]"
   ]
  },
  {
   "cell_type": "code",
   "execution_count": null,
   "metadata": {},
   "outputs": [],
   "source": [
    "advection_scenario = apebench.scenarios.difficulty.Advection(\n",
    "    report_metrics=REPORT_METRICS,\n",
    ")"
   ]
  },
  {
   "cell_type": "code",
   "execution_count": null,
   "metadata": {},
   "outputs": [],
   "source": [
    "data, trained_nets = advection_scenario(\n",
    "    task_config=\"predict\",\n",
    "    network_config=\"Res;26;8;relu\",  # 32'943 params, 16 receptive field per direction\n",
    "    train_config=\"one\",  # one-step supervised learning\n",
    "    num_seeds=10,\n",
    ")"
   ]
  },
  {
   "cell_type": "code",
   "execution_count": null,
   "metadata": {},
   "outputs": [],
   "source": [
    "loss_data = apebench.melt_loss(data)\n",
    "metric_data = apebench.melt_metrics(data, metric_name=REPORT_METRICS.split(\",\"))"
   ]
  },
  {
   "cell_type": "code",
   "execution_count": null,
   "metadata": {},
   "outputs": [],
   "source": [
    "metric_data_further_flattened = pd.melt(\n",
    "    metric_data,\n",
    "    id_vars=apebench._utils.BASE_NAMES\n",
    "    + [\n",
    "        \"time_step\",\n",
    "    ],\n",
    "    value_vars=REPORT_METRICS.split(\",\"),\n",
    "    var_name=\"metric_name\",\n",
    "    value_name=\"metric_value\",\n",
    ")"
   ]
  },
  {
   "cell_type": "markdown",
   "metadata": {},
   "source": []
  },
  {
   "cell_type": "code",
   "execution_count": null,
   "metadata": {},
   "outputs": [],
   "source": [
    "# Lesson one: Know whether your metric is consistent with a norm or not!\n",
    "sns.lineplot(\n",
    "    metric_data_further_flattened,\n",
    "    x=\"time_step\",\n",
    "    y=\"metric_value\",\n",
    "    hue=\"metric_name\",\n",
    "    hue_order=[\"mean_nRMSE\", \"mean_nMSE\", \"mean_nMAE\"],\n",
    "    estimator=\"median\",\n",
    "    errorbar=(\"pi\", 50),\n",
    ")\n",
    "plt.ylim(0, 1)"
   ]
  },
  {
   "cell_type": "code",
   "execution_count": null,
   "metadata": {},
   "outputs": [],
   "source": [
    "# Lesson 2: Metric orders of magnitude can vary, so better use a normalized\n",
    "# version\n",
    "sns.lineplot(\n",
    "    metric_data_further_flattened,\n",
    "    x=\"time_step\",\n",
    "    y=\"metric_value\",\n",
    "    hue=\"metric_name\",\n",
    "    hue_order=[\"mean_RMSE\", \"mean_MSE\", \"mean_MAE\"],\n",
    "    estimator=\"median\",\n",
    "    errorbar=(\"pi\", 50),\n",
    ")"
   ]
  },
  {
   "cell_type": "code",
   "execution_count": null,
   "metadata": {},
   "outputs": [],
   "source": [
    "# Symmetric is also an option\n",
    "sns.lineplot(\n",
    "    metric_data_further_flattened,\n",
    "    x=\"time_step\",\n",
    "    y=\"metric_value\",\n",
    "    hue=\"metric_name\",\n",
    "    hue_order=[\"mean_sRMSE\", \"mean_sMSE\", \"mean_sMAE\"],\n",
    "    estimator=\"median\",\n",
    "    errorbar=(\"pi\", 50),\n",
    ")"
   ]
  },
  {
   "cell_type": "code",
   "execution_count": null,
   "metadata": {},
   "outputs": [],
   "source": [
    "sns.lineplot(\n",
    "    metric_data_further_flattened,\n",
    "    x=\"time_step\",\n",
    "    y=\"metric_value\",\n",
    "    hue=\"metric_name\",\n",
    "    hue_order=[\n",
    "        \"mean_RMSE\",\n",
    "        \"mean_fourier_RMSE;0;5;0\",\n",
    "        \"mean_fourier_RMSE;6;10;0\",\n",
    "        \"mean_fourier_RMSE;11;81;0\",\n",
    "    ],\n",
    "    estimator=\"median\",\n",
    "    errorbar=(\"pi\", 50),\n",
    ")"
   ]
  },
  {
   "cell_type": "code",
   "execution_count": null,
   "metadata": {},
   "outputs": [],
   "source": [
    "sns.lineplot(\n",
    "    metric_data_further_flattened,\n",
    "    x=\"time_step\",\n",
    "    y=\"metric_value\",\n",
    "    hue=\"metric_name\",\n",
    "    hue_order=[\n",
    "        \"mean_fourier_RMSE;0;5;1\",\n",
    "        \"mean_fourier_RMSE;0;5;2\",\n",
    "        \"mean_fourier_RMSE;0;81;1\",\n",
    "        \"mean_fourier_RMSE;0;81;2\",\n",
    "    ],\n",
    "    estimator=\"median\",\n",
    "    errorbar=(\"pi\", 50),\n",
    ")\n",
    "plt.yscale(\"log\")"
   ]
  },
  {
   "cell_type": "code",
   "execution_count": null,
   "metadata": {},
   "outputs": [],
   "source": []
  }
 ],
 "metadata": {
  "kernelspec": {
   "display_name": "apebench_dev",
   "language": "python",
   "name": "python3"
  },
  "language_info": {
   "codemirror_mode": {
    "name": "ipython",
    "version": 3
   },
   "file_extension": ".py",
   "mimetype": "text/x-python",
   "name": "python",
   "nbconvert_exporter": "python",
   "pygments_lexer": "ipython3",
   "version": "3.12.7"
  }
 },
 "nbformat": 4,
 "nbformat_minor": 2
}
