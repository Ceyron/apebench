{
 "cells": [
  {
   "cell_type": "markdown",
   "metadata": {},
   "source": [
    "Investigates 3(b) of the APEBench paper"
   ]
  },
  {
   "cell_type": "code",
   "execution_count": null,
   "metadata": {},
   "outputs": [],
   "source": [
    "import apebench\n",
    "import jax\n",
    "import jax.numpy as jnp\n",
    "import seaborn as sns\n",
    "import matplotlib.pyplot as plt\n",
    "from scipy import stats\n",
    "import pandas as pd"
   ]
  },
  {
   "cell_type": "code",
   "execution_count": null,
   "metadata": {},
   "outputs": [],
   "source": [
    "CONFIGS = [\n",
    "    {\n",
    "        \"scenario\": \"diff_adv\",\n",
    "        \"task\": \"predict\",\n",
    "        \"net\": \"Res;26;8;relu\",  # 32'943 params, 16 receptive field per direction\n",
    "        \"train\": f\"sup;{unrolled_steps:02d}\",\n",
    "        \"start_seed\": s,\n",
    "        \"num_seeds\": 10,\n",
    "        \"advection_gamma\": 10.5,\n",
    "        \"optim_config\": f\"adam;{num_training_steps};warmup_cosine;0.0;1e-3;{num_training_steps//5}\",\n",
    "    }\n",
    "    for s in [\n",
    "        0,\n",
    "    ]  # 10, 20, 30, 40]\n",
    "    for (num_training_steps, unrolled_steps) in [\n",
    "        (10_000, 5),\n",
    "        (50_000, 1),\n",
    "        (10_000, 1),\n",
    "    ]\n",
    "    # for unrolled_steps in [\n",
    "    #     1,\n",
    "    #     # 2,\n",
    "    #     # 3,\n",
    "    #     5,\n",
    "    #     # 10,\n",
    "    #     # 15,\n",
    "    # ]\n",
    "]"
   ]
  },
  {
   "cell_type": "code",
   "execution_count": null,
   "metadata": {},
   "outputs": [],
   "source": [
    "(\n",
    "    metric_df,\n",
    "    loss_df,\n",
    "    sample_rollout_df,\n",
    "    network_weights_list,\n",
    ") = apebench.run_study_convenience(\n",
    "    CONFIGS,\n",
    "    \"unrolled_training_for_high_difficulty/\",\n",
    "    do_loss=True,\n",
    "    do_metrics=True,\n",
    "    do_sample_rollouts=True,\n",
    ")"
   ]
  },
  {
   "cell_type": "code",
   "execution_count": null,
   "metadata": {},
   "outputs": [],
   "source": [
    "loss_df = apebench.split_train(loss_df)\n",
    "metric_df = apebench.split_train(metric_df)\n",
    "loss_df = apebench.read_in_kwargs(loss_df)\n",
    "metric_df = apebench.read_in_kwargs(metric_df)"
   ]
  },
  {
   "cell_type": "code",
   "execution_count": null,
   "metadata": {},
   "outputs": [],
   "source": [
    "def get_setup(df):\n",
    "    df[\"num_training_steps\"] = df[\"optim_config\"].apply(lambda x: int(x.split(\";\")[1]))\n",
    "    df[\"setup\"] = df[\"rollout\"].astype(str) + \"-\" + df[\"num_training_steps\"].astype(str)\n",
    "    return df"
   ]
  },
  {
   "cell_type": "code",
   "execution_count": null,
   "metadata": {},
   "outputs": [],
   "source": [
    "loss_df = get_setup(loss_df)\n",
    "metric_df = get_setup(metric_df)"
   ]
  },
  {
   "cell_type": "code",
   "execution_count": null,
   "metadata": {},
   "outputs": [],
   "source": [
    "sns.lineplot(loss_df, x=\"update_step\", y=\"train_loss\", hue=\"setup\")\n",
    "plt.yscale(\"log\")"
   ]
  },
  {
   "cell_type": "code",
   "execution_count": null,
   "metadata": {},
   "outputs": [],
   "source": [
    "sns.lineplot(metric_df, x=\"time_step\", y=\"mean_nRMSE\", hue=\"setup\")"
   ]
  },
  {
   "cell_type": "code",
   "execution_count": null,
   "metadata": {},
   "outputs": [],
   "source": [
    "sns.lineplot(metric_df, x=\"time_step\", y=\"mean_nRMSE\", hue=\"setup\")\n",
    "plt.yscale(\"log\")"
   ]
  },
  {
   "cell_type": "code",
   "execution_count": null,
   "metadata": {},
   "outputs": [],
   "source": [
    "sns.catplot(\n",
    "    data=metric_df,\n",
    "    x=\"time_step\",\n",
    "    order=[1, 2, 5],\n",
    "    y=\"mean_nRMSE\",\n",
    "    hue=\"setup\",\n",
    "    kind=\"bar\",\n",
    ")"
   ]
  },
  {
   "cell_type": "code",
   "execution_count": null,
   "metadata": {},
   "outputs": [],
   "source": [
    "stats.ttest_ind(\n",
    "    metric_df.query(\"setup == '1-10000' and time_step == 5\")[\"mean_nRMSE\"],\n",
    "    metric_df.query(\"setup == '5-10000' and time_step == 5\")[\"mean_nRMSE\"],\n",
    ").pvalue"
   ]
  },
  {
   "cell_type": "code",
   "execution_count": null,
   "metadata": {},
   "outputs": [],
   "source": [
    "# metric_df.groupby([\"time_step\"]).apply(\n",
    "#     lambda x: x.assign(\n",
    "#         p_1_short_over5=stats.ttest_ind(\n",
    "#             x.query(\"setup == '1-10000'\")[\"mean_nRMSE\"],\n",
    "#             x.query(\"setup == '5-10000'\")[\"mean_nRMSE\"]\n",
    "#         ).pvalue\n",
    "#     ),\n",
    "#     include_groups=False\n",
    "# )"
   ]
  },
  {
   "cell_type": "code",
   "execution_count": null,
   "metadata": {},
   "outputs": [],
   "source": [
    "p_5_better_than_1_10000 = metric_df.groupby([\"time_step\"]).apply(\n",
    "    lambda x: stats.ttest_ind(\n",
    "        x.query(\"setup == '5-10000'\")[\"mean_nRMSE\"],\n",
    "        x.query(\"setup == '1-10000'\")[\"mean_nRMSE\"],\n",
    "        alternative=\"less\",\n",
    "    ).pvalue,\n",
    "    include_groups=False,\n",
    ")\n",
    "\n",
    "p_5_better_than_1_50000 = metric_df.groupby([\"time_step\"]).apply(\n",
    "    lambda x: stats.ttest_ind(\n",
    "        x.query(\"setup == '5-10000'\")[\"mean_nRMSE\"],\n",
    "        x.query(\"setup == '1-50000'\")[\"mean_nRMSE\"],\n",
    "        alternative=\"less\",\n",
    "    ).pvalue,\n",
    "    include_groups=False,\n",
    ")\n",
    "\n",
    "p_1_50000_better_than_1_10000 = metric_df.groupby([\"time_step\"]).apply(\n",
    "    lambda x: stats.ttest_ind(\n",
    "        x.query(\"setup == '1-50000'\")[\"mean_nRMSE\"],\n",
    "        x.query(\"setup == '1-10000'\")[\"mean_nRMSE\"],\n",
    "        alternative=\"less\",\n",
    "    ).pvalue,\n",
    "    include_groups=False,\n",
    ")"
   ]
  },
  {
   "cell_type": "code",
   "execution_count": null,
   "metadata": {},
   "outputs": [],
   "source": [
    "plt.plot(p_5_better_than_1_10000, label=\"5-10000 better than 1-10000\")\n",
    "plt.plot(p_5_better_than_1_50000, label=\"5-10000 better than 1-50000\")\n",
    "plt.plot(p_1_50000_better_than_1_10000, label=\"1-50000 better than 1-10000\")\n",
    "plt.hlines(0.05, 0, 200, colors=\"red\", linestyles=\"dashed\", label=\"p=0.05\")\n",
    "plt.hlines(0.01, 0, 200, colors=\"red\", linestyles=\"dotted\", label=\"p=0.01\")\n",
    "# plt.ylim(-0.01, 0.11)\n",
    "plt.yscale(\"log\")\n",
    "plt.legend()\n",
    "plt.xlabel(\"Time step\")\n",
    "plt.ylabel(\"p-value\")"
   ]
  },
  {
   "cell_type": "code",
   "execution_count": null,
   "metadata": {},
   "outputs": [],
   "source": []
  }
 ],
 "metadata": {
  "kernelspec": {
   "display_name": "apebench_dev",
   "language": "python",
   "name": "python3"
  },
  "language_info": {
   "codemirror_mode": {
    "name": "ipython",
    "version": 3
   },
   "file_extension": ".py",
   "mimetype": "text/x-python",
   "name": "python",
   "nbconvert_exporter": "python",
   "pygments_lexer": "ipython3",
   "version": "3.12.7"
  }
 },
 "nbformat": 4,
 "nbformat_minor": 2
}
