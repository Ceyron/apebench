{
 "cells": [
  {
   "cell_type": "markdown",
   "metadata": {},
   "source": [
    "# Fourier Neural Operators and their active modes\n",
    "\n",
    "Loosely speaking, the kernel size of convolutional architectures are the active\n",
    "modes of an FNO."
   ]
  },
  {
   "cell_type": "code",
   "execution_count": null,
   "metadata": {},
   "outputs": [],
   "source": [
    "import apebench\n",
    "import jax\n",
    "import jax.numpy as jnp\n",
    "import seaborn as sns\n",
    "import matplotlib.pyplot as plt"
   ]
  },
  {
   "cell_type": "code",
   "execution_count": null,
   "metadata": {},
   "outputs": [],
   "source": [
    "CONFIGS = [\n",
    "    {\n",
    "        \"scenario\": \"diff_adv\",\n",
    "        \"task\": \"predict\",\n",
    "        \"net\": f\"FNO;{fno_modes};18;4;gelu\",\n",
    "        \"train\": \"one\",\n",
    "        \"start_seed\": 0,\n",
    "        \"num_seeds\": 20,\n",
    "    }\n",
    "    for fno_modes in [1, 4, 5, 6, 7, 10, 40, 80]\n",
    "]"
   ]
  },
  {
   "cell_type": "code",
   "execution_count": null,
   "metadata": {},
   "outputs": [],
   "source": [
    "(\n",
    "    metric_df,\n",
    "    loss_df,\n",
    "    sample_rollout_df,\n",
    "    network_weights_list,\n",
    ") = apebench.run_study_convenience(\n",
    "    CONFIGS,\n",
    "    \"fno_and_active_modes/\",\n",
    "    do_loss=True,\n",
    "    do_metrics=True,\n",
    "    do_sample_rollouts=True,\n",
    ")"
   ]
  },
  {
   "cell_type": "code",
   "execution_count": null,
   "metadata": {},
   "outputs": [],
   "source": [
    "sns.lineplot(loss_df, x=\"update_step\", y=\"train_loss\", hue=\"net\", errorbar=None)\n",
    "plt.yscale(\"log\")"
   ]
  },
  {
   "cell_type": "code",
   "execution_count": null,
   "metadata": {},
   "outputs": [],
   "source": [
    "sns.lineplot(metric_df, x=\"time_step\", y=\"mean_nRMSE\", hue=\"net\", errorbar=None)"
   ]
  },
  {
   "cell_type": "markdown",
   "metadata": {},
   "source": [
    "### Relate to Spectra"
   ]
  },
  {
   "cell_type": "code",
   "execution_count": null,
   "metadata": {},
   "outputs": [],
   "source": [
    "adv_scenario = apebench.scenarios.scenario_dict[\"diff_adv\"]()"
   ]
  },
  {
   "cell_type": "code",
   "execution_count": null,
   "metadata": {},
   "outputs": [],
   "source": [
    "test_trj_set = adv_scenario.get_test_data()\n",
    "# (num_test_samples, test_temporal_horizon+1, num_channels, num_points)\n",
    "test_trj_set.shape"
   ]
  },
  {
   "cell_type": "code",
   "execution_count": null,
   "metadata": {},
   "outputs": [],
   "source": [
    "# Produce the spatial magnitude spectrum for all samples across all time steps\n",
    "test_trj_set_spectrum = jax.vmap(\n",
    "    jax.vmap(lambda u: apebench.exponax.get_spectrum(u, power=False))\n",
    ")(test_trj_set)\n",
    "\n",
    "# (num_test_samples, test_temporal_horizon+1, num_channels=1, num_points//2+1)\n",
    "test_trj_set_spectrum.shape"
   ]
  },
  {
   "cell_type": "code",
   "execution_count": null,
   "metadata": {},
   "outputs": [],
   "source": [
    "# Let's visualize the spectrum for the zeroth sample at some points in time\n",
    "SAMPLE_IDX = 0\n",
    "TIME_STEP_IDX = [0, 1, 2, 5, 10, 50, 100, 200]\n",
    "\n",
    "for time_step_idx in TIME_STEP_IDX:\n",
    "    plt.semilogy(\n",
    "        # Need to index the zeroth channel dimension\n",
    "        test_trj_set_spectrum[SAMPLE_IDX, time_step_idx, 0],\n",
    "        label=f\"[t]={time_step_idx}\",\n",
    "    )\n",
    "\n",
    "plt.legend()\n",
    "plt.grid()"
   ]
  },
  {
   "cell_type": "markdown",
   "metadata": {},
   "source": [
    "## Extend to more scenarios"
   ]
  },
  {
   "cell_type": "code",
   "execution_count": null,
   "metadata": {},
   "outputs": [],
   "source": [
    "CONFIGS = [\n",
    "    {\n",
    "        \"scenario\": scenario,\n",
    "        \"task\": \"predict\",\n",
    "        \"net\": f\"FNO;{fno_modes};18;4;gelu\",\n",
    "        \"train\": \"one\",\n",
    "        \"start_seed\": 0,\n",
    "        \"num_seeds\": 20,\n",
    "    }\n",
    "    for scenario in [\"diff_adv\", \"diff_burgers\", \"diff_ks\"]\n",
    "    for fno_modes in [1, 4, 5, 6, 7, 10, 40, 80]\n",
    "]"
   ]
  },
  {
   "cell_type": "code",
   "execution_count": null,
   "metadata": {},
   "outputs": [],
   "source": [
    "(\n",
    "    metric_df,\n",
    "    loss_df,\n",
    "    sample_rollout_df,\n",
    "    network_weights_list,\n",
    ") = apebench.run_study_convenience(\n",
    "    CONFIGS,\n",
    "    \"fno_and_active_modes/\",\n",
    "    do_loss=True,\n",
    "    do_metrics=True,\n",
    "    do_sample_rollouts=True,\n",
    ")"
   ]
  },
  {
   "cell_type": "code",
   "execution_count": null,
   "metadata": {},
   "outputs": [],
   "source": [
    "loss_facet = sns.relplot(\n",
    "    data=loss_df,\n",
    "    x=\"update_step\",\n",
    "    y=\"train_loss\",\n",
    "    hue=\"net\",\n",
    "    col=\"scenario\",\n",
    "    kind=\"line\",\n",
    "    estimator=\"median\",\n",
    "    errorbar=(\"pi\", 50),\n",
    ")\n",
    "\n",
    "for ax in loss_facet.axes.flat:\n",
    "    ax.set_yscale(\"log\")\n",
    "    ax.grid()"
   ]
  },
  {
   "cell_type": "code",
   "execution_count": null,
   "metadata": {},
   "outputs": [],
   "source": [
    "metric_facet = sns.relplot(\n",
    "    data=metric_df,\n",
    "    x=\"time_step\",\n",
    "    y=\"mean_nRMSE\",\n",
    "    hue=\"net\",\n",
    "    col=\"scenario\",\n",
    "    kind=\"line\",\n",
    "    estimator=\"median\",\n",
    "    errorbar=(\"pi\", 50),\n",
    ")\n",
    "\n",
    "for ax in metric_facet.axes.flat:\n",
    "    ax.set_ylim(-0.1, 1.1)\n",
    "    ax.grid()"
   ]
  },
  {
   "cell_type": "markdown",
   "metadata": {},
   "source": [
    "## Relate to the Spectra"
   ]
  },
  {
   "cell_type": "code",
   "execution_count": null,
   "metadata": {},
   "outputs": [],
   "source": [
    "burger_scenario = apebench.scenarios.scenario_dict[\"diff_burgers\"]()\n",
    "ks_scenario = apebench.scenarios.scenario_dict[\"diff_ks\"]()"
   ]
  },
  {
   "cell_type": "code",
   "execution_count": null,
   "metadata": {},
   "outputs": [],
   "source": [
    "burger_test_trj_set = burger_scenario.get_test_data()\n",
    "ks_test_trj_set = ks_scenario.get_test_data()\n",
    "\n",
    "burger_test_trj_set_spectrum = jax.vmap(\n",
    "    jax.vmap(lambda u: apebench.exponax.get_spectrum(u, power=False))\n",
    ")(burger_test_trj_set)\n",
    "\n",
    "ks_test_trj_set_spectrum = jax.vmap(\n",
    "    jax.vmap(lambda u: apebench.exponax.get_spectrum(u, power=False))\n",
    ")(ks_test_trj_set)"
   ]
  },
  {
   "cell_type": "code",
   "execution_count": null,
   "metadata": {},
   "outputs": [],
   "source": [
    "fig, axs = plt.subplots(1, 3, figsize=(15, 5))\n",
    "\n",
    "for time_step_idx in TIME_STEP_IDX:\n",
    "    axs[0].semilogy(\n",
    "        test_trj_set_spectrum[SAMPLE_IDX, time_step_idx, 0],\n",
    "        label=f\"[t]={time_step_idx}\",\n",
    "    )\n",
    "    axs[0].set_title(\"Advection\")\n",
    "\n",
    "    axs[1].semilogy(\n",
    "        burger_test_trj_set_spectrum[SAMPLE_IDX, time_step_idx, 0],\n",
    "        label=f\"[t]={time_step_idx}\",\n",
    "    )\n",
    "    axs[1].set_title(\"Burgers\")\n",
    "\n",
    "    axs[2].semilogy(\n",
    "        ks_test_trj_set_spectrum[SAMPLE_IDX, time_step_idx, 0],\n",
    "        label=f\"[t]={time_step_idx}\",\n",
    "    )\n",
    "    axs[2].set_title(\"Kuramoto-Sivashinsky\")\n",
    "\n",
    "# Have joint legend\n",
    "fig.legend(*axs[0].get_legend_handles_labels(), loc=\"center right\")"
   ]
  },
  {
   "cell_type": "code",
   "execution_count": null,
   "metadata": {},
   "outputs": [],
   "source": []
  }
 ],
 "metadata": {
  "kernelspec": {
   "display_name": "apebench_dev",
   "language": "python",
   "name": "python3"
  },
  "language_info": {
   "codemirror_mode": {
    "name": "ipython",
    "version": 3
   },
   "file_extension": ".py",
   "mimetype": "text/x-python",
   "name": "python",
   "nbconvert_exporter": "python",
   "pygments_lexer": "ipython3",
   "version": "3.12.7"
  }
 },
 "nbformat": 4,
 "nbformat_minor": 2
}
