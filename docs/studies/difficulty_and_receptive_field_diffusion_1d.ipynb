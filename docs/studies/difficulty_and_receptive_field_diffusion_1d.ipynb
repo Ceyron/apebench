{
 "cells": [
  {
   "cell_type": "markdown",
   "metadata": {},
   "source": [
    "# Emulator Architectures across Difficulties for Diffusion PDE\n",
    "\n",
    "This notebook trains a range of neural emulator architectures:\n",
    "\n",
    "- Feed-Forward ConvNets (of varying depths)\n",
    "- ResNet\n",
    "- UNet\n",
    "- Dilated ResNet\n",
    "- FNO\n",
    "\n",
    "for the diffusion PDE\n",
    "\n",
    "$$\n",
    "\\frac{\\partial u}{\\partial t} = \\nu \\nabla^2 u\n",
    "$$\n",
    "\n",
    "using a \"difficulty parameterization\" as explained in the [APEBench\n",
    "paper](https://arxiv.org/abs/2411.00180). We use the $\\gamma_2$ (difficulty\n",
    "associated with a PDE with a spatial derivative of order 2) defined by (in 1D)\n",
    "\n",
    "$$\n",
    "\\gamma_2 = \\frac{\\nu \\Delta t N 2}{L}\n",
    "$$\n",
    "\n",
    "Conviently, $\\gamma_2 \\in [0, 1]$ defines the stability region for the most\n",
    "compact finite difference scheme of this equation, the [FTCS\n",
    "method](https://en.wikipedia.org/wiki/FTCS_scheme). It thereby poses a minimum\n",
    "requirement on the receptive field of the neural emulator as we shall see below."
   ]
  },
  {
   "cell_type": "code",
   "execution_count": null,
   "metadata": {},
   "outputs": [],
   "source": [
    "import apebench\n",
    "import seaborn as sns"
   ]
  },
  {
   "cell_type": "code",
   "execution_count": null,
   "metadata": {},
   "outputs": [],
   "source": [
    "CONFIGS = [\n",
    "    {\n",
    "        \"scenario\": \"diff_diff\",\n",
    "        \"task\": \"predict\",\n",
    "        \"net\": net,\n",
    "        \"train\": \"one\",\n",
    "        \"start_seed\": 0,\n",
    "        \"num_seeds\": 20,\n",
    "        \"diffusion_gamma\": diffusion_gamma,\n",
    "    }\n",
    "    for net in [\n",
    "        *[f\"Conv;34;{depth};relu\" for depth in [0, 1, 2, 10]],\n",
    "    ]\n",
    "    for diffusion_gamma in [\n",
    "        0.5,\n",
    "        2.5,\n",
    "        10.5,\n",
    "    ]\n",
    "]"
   ]
  },
  {
   "cell_type": "code",
   "execution_count": null,
   "metadata": {},
   "outputs": [],
   "source": [
    "(\n",
    "    df_metric,\n",
    "    df_loss,\n",
    "    _,\n",
    "    network_list,\n",
    ") = apebench.run_study_convenience(\n",
    "    CONFIGS,\n",
    "    \"difficulty_and_receptive_field_diffusion\",\n",
    "    do_loss=True,\n",
    ")"
   ]
  },
  {
   "cell_type": "code",
   "execution_count": null,
   "metadata": {},
   "outputs": [],
   "source": [
    "def split_net(df):\n",
    "    df[\"net_type\"] = df[\"net\"].apply(lambda x: x.split(\";\")[0])\n",
    "    df[\"hidden_channels\"] = df[\"net\"].apply(\n",
    "        lambda x: int(x.split(\";\")[1])\n",
    "        if len(x.split(\";\")) == 4\n",
    "        else int(x.split(\";\")[2])\n",
    "    )\n",
    "    df[\"conv_depth\"] = df[\"net\"].apply(\n",
    "        lambda x: int(x.split(\";\")[2]) if x.split(\";\")[0].lower() == \"conv\" else 10\n",
    "    )\n",
    "\n",
    "    return df"
   ]
  },
  {
   "cell_type": "code",
   "execution_count": null,
   "metadata": {},
   "outputs": [],
   "source": [
    "df_metric = split_net(df_metric)\n",
    "df_loss = split_net(df_loss)"
   ]
  },
  {
   "cell_type": "code",
   "execution_count": null,
   "metadata": {},
   "outputs": [],
   "source": [
    "facet = sns.relplot(\n",
    "    df_loss,\n",
    "    x=\"update_step\",\n",
    "    y=\"train_loss\",\n",
    "    style=\"conv_depth\",\n",
    "    style_order=[10, 2, 1, 0],\n",
    "    col=\"diffusion_gamma\",\n",
    "    kind=\"line\",\n",
    "    estimator=\"median\",\n",
    "    errorbar=(\"pi\", 50),\n",
    ")\n",
    "for ax in facet.axes.flat:\n",
    "    ax.set_yscale(\"log\")\n",
    "    ax.grid(True)"
   ]
  },
  {
   "cell_type": "code",
   "execution_count": null,
   "metadata": {},
   "outputs": [],
   "source": [
    "facet = sns.relplot(\n",
    "    df_metric,\n",
    "    x=\"time_step\",\n",
    "    y=\"mean_nRMSE\",\n",
    "    style=\"conv_depth\",\n",
    "    style_order=[10, 2, 1, 0],\n",
    "    col=\"diffusion_gamma\",\n",
    "    kind=\"line\",\n",
    "    estimator=\"median\",\n",
    "    errorbar=(\"pi\", 50),\n",
    ")\n",
    "for ax in facet.axes.flat:\n",
    "    ax.grid(True)\n",
    "    ax.set_ylim(-0.05, 1.05)"
   ]
  },
  {
   "cell_type": "markdown",
   "metadata": {},
   "source": [
    "Zooming in"
   ]
  },
  {
   "cell_type": "code",
   "execution_count": null,
   "metadata": {},
   "outputs": [],
   "source": [
    "facet = sns.relplot(\n",
    "    df_metric,\n",
    "    x=\"time_step\",\n",
    "    y=\"mean_nRMSE\",\n",
    "    style=\"conv_depth\",\n",
    "    style_order=[10, 2, 1, 0],\n",
    "    col=\"diffusion_gamma\",\n",
    "    kind=\"line\",\n",
    "    estimator=\"median\",\n",
    "    errorbar=(\"pi\", 50),\n",
    ")\n",
    "for ax in facet.axes.flat:\n",
    "    ax.grid(True)\n",
    "    ax.set_ylim(-0.001, 0.07)\n",
    "    ax.set_xlim(-1, 25)"
   ]
  },
  {
   "cell_type": "markdown",
   "metadata": {},
   "source": [
    "## Extended Study"
   ]
  },
  {
   "cell_type": "code",
   "execution_count": null,
   "metadata": {},
   "outputs": [],
   "source": [
    "CONFIGS_EXTENDED = [\n",
    "    {\n",
    "        \"scenario\": \"diff_diff\",\n",
    "        \"task\": \"predict\",\n",
    "        \"net\": net,\n",
    "        \"train\": \"one\",\n",
    "        \"start_seed\": 0,\n",
    "        \"num_seeds\": 20,\n",
    "        \"diffusion_gamma\": diffusion_gamma,\n",
    "    }\n",
    "    for net in [\n",
    "        *[f\"Conv;34;{depth};relu\" for depth in [0, 1, 2, 10]],\n",
    "        \"UNet;12;2;relu\",  # 27'193 params, 29 receptive field per direction\n",
    "        \"Res;26;8;relu\",  # 32'943 params, 16 receptive field per direction\n",
    "        \"FNO;12;18;4;gelu\",  # 32'527 params, inf receptive field per direction\n",
    "        \"Dil;2;32;2;relu\",  # 31'777 params, 20 receptive field per direction\n",
    "    ]\n",
    "    for diffusion_gamma in [\n",
    "        0.5,\n",
    "        2.5,\n",
    "        10.5,\n",
    "    ]\n",
    "]"
   ]
  },
  {
   "cell_type": "code",
   "execution_count": null,
   "metadata": {},
   "outputs": [],
   "source": [
    "(\n",
    "    df_metric_extended,\n",
    "    df_loss_extended,\n",
    "    _,\n",
    "    network_list,\n",
    ") = apebench.run_study_convenience(\n",
    "    CONFIGS_EXTENDED,\n",
    "    \"difficulty_and_receptive_field_diffusion\",\n",
    "    do_loss=True,\n",
    ")"
   ]
  },
  {
   "cell_type": "code",
   "execution_count": null,
   "metadata": {},
   "outputs": [],
   "source": [
    "df_loss_extended = split_net(apebench.read_in_kwargs(df_loss_extended))\n",
    "df_metric_extended = split_net(apebench.read_in_kwargs(df_metric_extended))"
   ]
  },
  {
   "cell_type": "code",
   "execution_count": null,
   "metadata": {},
   "outputs": [],
   "source": [
    "facet = sns.relplot(\n",
    "    df_loss_extended,\n",
    "    x=\"update_step\",\n",
    "    y=\"train_loss\",\n",
    "    hue=\"net_type\",\n",
    "    hue_order=[\"Conv\", \"Res\", \"UNet\", \"Dil\", \"FNO\"],\n",
    "    palette=[\"#377eb8\", \"#4daf4a\", \"#e41a1c\", \"#ff7f00\", \"#984ea3\"],\n",
    "    style=\"conv_depth\",\n",
    "    style_order=[10, 2, 1, 0],\n",
    "    col=\"diffusion_gamma\",\n",
    "    kind=\"line\",\n",
    "    estimator=\"median\",\n",
    "    errorbar=(\"pi\", 50),\n",
    ")\n",
    "for ax in facet.axes.flat:\n",
    "    ax.set_yscale(\"log\")\n",
    "    ax.grid(True)"
   ]
  },
  {
   "cell_type": "code",
   "execution_count": null,
   "metadata": {},
   "outputs": [],
   "source": [
    "facet = sns.relplot(\n",
    "    df_metric_extended,\n",
    "    x=\"time_step\",\n",
    "    y=\"mean_nRMSE\",\n",
    "    hue=\"net_type\",\n",
    "    hue_order=[\"Conv\", \"Res\", \"UNet\", \"Dil\", \"FNO\"],\n",
    "    palette=[\"#377eb8\", \"#4daf4a\", \"#e41a1c\", \"#ff7f00\", \"#984ea3\"],\n",
    "    style=\"conv_depth\",\n",
    "    style_order=[10, 2, 1, 0],\n",
    "    col=\"diffusion_gamma\",\n",
    "    kind=\"line\",\n",
    "    estimator=\"median\",\n",
    "    errorbar=(\"pi\", 50),\n",
    ")\n",
    "for ax in facet.axes.flat:\n",
    "    ax.grid(True)\n",
    "    ax.set_ylim(-0.05, 1.05)"
   ]
  },
  {
   "cell_type": "code",
   "execution_count": null,
   "metadata": {},
   "outputs": [],
   "source": [
    "facet = sns.relplot(\n",
    "    df_metric_extended,\n",
    "    x=\"time_step\",\n",
    "    y=\"mean_nRMSE\",\n",
    "    hue=\"net_type\",\n",
    "    hue_order=[\"Conv\", \"Res\", \"UNet\", \"Dil\", \"FNO\"],\n",
    "    palette=[\"#377eb8\", \"#4daf4a\", \"#e41a1c\", \"#ff7f00\", \"#984ea3\"],\n",
    "    style=\"conv_depth\",\n",
    "    style_order=[10, 2, 1, 0],\n",
    "    col=\"diffusion_gamma\",\n",
    "    kind=\"line\",\n",
    "    estimator=\"median\",\n",
    "    errorbar=(\"pi\", 50),\n",
    ")\n",
    "for ax in facet.axes.flat:\n",
    "    ax.grid(True)\n",
    "    ax.set_ylim(-0.001, 0.07)\n",
    "    ax.set_xlim(-1, 25)"
   ]
  },
  {
   "cell_type": "code",
   "execution_count": null,
   "metadata": {},
   "outputs": [],
   "source": []
  }
 ],
 "metadata": {
  "kernelspec": {
   "display_name": "apebench_dev",
   "language": "python",
   "name": "python3"
  },
  "language_info": {
   "codemirror_mode": {
    "name": "ipython",
    "version": 3
   },
   "file_extension": ".py",
   "mimetype": "text/x-python",
   "name": "python",
   "nbconvert_exporter": "python",
   "pygments_lexer": "ipython3",
   "version": "3.12.7"
  }
 },
 "nbformat": 4,
 "nbformat_minor": 2
}
