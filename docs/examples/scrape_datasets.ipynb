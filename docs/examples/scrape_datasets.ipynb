{
 "cells": [
  {
   "cell_type": "markdown",
   "metadata": {},
   "source": [
    "# Scrape Datasets from APEBench\n",
    "\n",
    "APEBench is designed to tightly integrate its differentiable solver framework\n",
    "and hence (procedurally) regenerates the training data for each run. This\n",
    "notebook shows you how to export the generated arrays programmatically to use\n",
    "them in different settings like with PyTorch."
   ]
  },
  {
   "cell_type": "code",
   "execution_count": 23,
   "metadata": {},
   "outputs": [],
   "source": [
    "import jax.numpy as jnp\n",
    "\n",
    "import apebench"
   ]
  },
  {
   "cell_type": "markdown",
   "metadata": {},
   "source": [
    "## Reading from a scenario\n",
    "\n",
    "Let's instantiate the default scenario for 1d advection in difficulty mode."
   ]
  },
  {
   "cell_type": "code",
   "execution_count": 2,
   "metadata": {},
   "outputs": [],
   "source": [
    "advection_1d_difficulty = apebench.scenarios.difficulty.Advection()"
   ]
  },
  {
   "cell_type": "markdown",
   "metadata": {},
   "source": [
    "Using the methods `get_train_data()` and `get_test_data()` procedurally\n",
    "generates the corresponding JAX arrays."
   ]
  },
  {
   "cell_type": "code",
   "execution_count": 22,
   "metadata": {},
   "outputs": [
    {
     "data": {
      "text/plain": [
       "((50, 51, 1, 160), (30, 201, 1, 160))"
      ]
     },
     "execution_count": 22,
     "metadata": {},
     "output_type": "execute_result"
    }
   ],
   "source": [
    "train_data = advection_1d_difficulty.get_train_data()\n",
    "test_data = advection_1d_difficulty.get_test_data()\n",
    "\n",
    "train_data.shape, test_data.shape"
   ]
  },
  {
   "cell_type": "markdown",
   "metadata": {},
   "source": [
    "From here on, you could use your preferred way to serialize the data or use it\n",
    "further in your application."
   ]
  },
  {
   "cell_type": "code",
   "execution_count": 4,
   "metadata": {},
   "outputs": [],
   "source": [
    "# jnp.save(\"advection_1d_train_data.npy\", train_data)\n",
    "# jnp.save(\"advection_1d_test_data.npy\", test_data)"
   ]
  },
  {
   "cell_type": "markdown",
   "metadata": {},
   "source": [
    "## Modifiying the scenario\n",
    "\n",
    "The important attributes that affect the size of the generated data are:\n",
    "\n",
    "- `num_train_samples`\n",
    "- `train_temporal_horizon`\n",
    "- `num_test_samples`\n",
    "- `test_temporal_horizon`\n",
    "\n",
    "Additionally, the `num_spatial_dims`, `num_points`, and `num_channels` affect the latter axes in the data arrays.\n",
    "\n",
    "The seed for data generation can altered by:\n",
    "\n",
    "- `train_seed`\n",
    "- `test_seed`"
   ]
  },
  {
   "cell_type": "code",
   "execution_count": 5,
   "metadata": {},
   "outputs": [],
   "source": [
    "modified_advection_1d_difficulty = apebench.scenarios.difficulty.Advection(\n",
    "    num_train_samples=81,\n",
    "    train_temporal_horizon=42,\n",
    "    train_seed=-1,\n",
    "    num_test_samples=3,\n",
    "    test_temporal_horizon=101,\n",
    "    test_seed=-3,\n",
    ")"
   ]
  },
  {
   "cell_type": "code",
   "execution_count": 6,
   "metadata": {},
   "outputs": [
    {
     "data": {
      "text/plain": [
       "((81, 43, 1, 160), (3, 102, 1, 160))"
      ]
     },
     "execution_count": 6,
     "metadata": {},
     "output_type": "execute_result"
    }
   ],
   "source": [
    "modified_train_data = modified_advection_1d_difficulty.get_train_data()\n",
    "modified_test_data = modified_advection_1d_difficulty.get_test_data()\n",
    "\n",
    "modified_train_data.shape, modified_test_data.shape"
   ]
  },
  {
   "cell_type": "markdown",
   "metadata": {},
   "source": [
    "## Exporting Metadata\n",
    "\n",
    "To get additional information on the data, it can be helpful to extract the\n",
    "attributes of the scenario. Since each scenario is a dataclass, its members can\n",
    "easily be converted into a dictionary."
   ]
  },
  {
   "cell_type": "markdown",
   "metadata": {},
   "source": [
    "Let's first print the representation of the scenario"
   ]
  },
  {
   "cell_type": "code",
   "execution_count": 7,
   "metadata": {},
   "outputs": [
    {
     "data": {
      "text/plain": [
       "Advection(\n",
       "  num_spatial_dims=1,\n",
       "  num_points=160,\n",
       "  num_channels=1,\n",
       "  ic_config='fourier;5;true;true',\n",
       "  num_warmup_steps=0,\n",
       "  num_train_samples=81,\n",
       "  train_temporal_horizon=42,\n",
       "  train_seed=-1,\n",
       "  num_test_samples=3,\n",
       "  test_temporal_horizon=101,\n",
       "  test_seed=-3,\n",
       "  optim_config='adam;10_000;warmup_cosine;0.0;1e-3;2_000',\n",
       "  batch_size=20,\n",
       "  num_trjs_returned=1,\n",
       "  record_loss_every=100,\n",
       "  vlim=(-1.0, 1.0),\n",
       "  report_metrics='mean_nRMSE',\n",
       "  callbacks='',\n",
       "  gammas=(0.0, -4.0, 0.0, 0.0, 0.0),\n",
       "  coarse_proportion=0.5,\n",
       "  advection_gamma=-4.0\n",
       ")"
      ]
     },
     "execution_count": 7,
     "metadata": {},
     "output_type": "execute_result"
    }
   ],
   "source": [
    "modified_advection_1d_difficulty"
   ]
  },
  {
   "cell_type": "markdown",
   "metadata": {},
   "source": [
    "Then import the function form the `dataclasses` module and convert the scenario to a\n",
    "dictionary."
   ]
  },
  {
   "cell_type": "code",
   "execution_count": 8,
   "metadata": {},
   "outputs": [],
   "source": [
    "from dataclasses import asdict"
   ]
  },
  {
   "cell_type": "code",
   "execution_count": 9,
   "metadata": {},
   "outputs": [
    {
     "data": {
      "text/plain": [
       "{'num_spatial_dims': 1,\n",
       " 'num_points': 160,\n",
       " 'num_channels': 1,\n",
       " 'ic_config': 'fourier;5;true;true',\n",
       " 'num_warmup_steps': 0,\n",
       " 'num_train_samples': 81,\n",
       " 'train_temporal_horizon': 42,\n",
       " 'train_seed': -1,\n",
       " 'num_test_samples': 3,\n",
       " 'test_temporal_horizon': 101,\n",
       " 'test_seed': -3,\n",
       " 'optim_config': 'adam;10_000;warmup_cosine;0.0;1e-3;2_000',\n",
       " 'batch_size': 20,\n",
       " 'num_trjs_returned': 1,\n",
       " 'record_loss_every': 100,\n",
       " 'vlim': (-1.0, 1.0),\n",
       " 'report_metrics': 'mean_nRMSE',\n",
       " 'callbacks': '',\n",
       " 'gammas': (0.0, -4.0, 0.0, 0.0, 0.0),\n",
       " 'coarse_proportion': 0.5,\n",
       " 'advection_gamma': -4.0}"
      ]
     },
     "execution_count": 9,
     "metadata": {},
     "output_type": "execute_result"
    }
   ],
   "source": [
    "modified_metadata = asdict(modified_advection_1d_difficulty)\n",
    "\n",
    "modified_metadata"
   ]
  },
  {
   "cell_type": "markdown",
   "metadata": {},
   "source": [
    "You can dump this data to a JSON file or use it in any other way you see fit."
   ]
  },
  {
   "cell_type": "code",
   "execution_count": 10,
   "metadata": {},
   "outputs": [],
   "source": [
    "# import json\n",
    "# with open(\"modified_advection_1d_difficulty.json\", \"w\") as f:\n",
    "#     json.dump(modified_metadata, f)"
   ]
  },
  {
   "cell_type": "markdown",
   "metadata": {},
   "source": [
    "## Using the scraping API\n",
    "\n",
    "APEBench provides a structured way to get train data, test data, and metadata\n",
    "from a scenario."
   ]
  },
  {
   "cell_type": "code",
   "execution_count": 11,
   "metadata": {},
   "outputs": [],
   "source": [
    "train_data_ks, test_data_ks, meta_data_ks = apebench.scraper.scrape_data_and_metadata(\n",
    "    scenario=\"diff_ks\"\n",
    ")"
   ]
  },
  {
   "cell_type": "code",
   "execution_count": 12,
   "metadata": {},
   "outputs": [
    {
     "data": {
      "text/plain": [
       "((50, 51, 1, 160), (30, 201, 1, 160))"
      ]
     },
     "execution_count": 12,
     "metadata": {},
     "output_type": "execute_result"
    }
   ],
   "source": [
    "train_data_ks.shape, test_data_ks.shape"
   ]
  },
  {
   "cell_type": "code",
   "execution_count": 13,
   "metadata": {},
   "outputs": [
    {
     "data": {
      "text/plain": [
       "{'name': '1d_diff_ks',\n",
       " 'info': {'num_spatial_dims': 1,\n",
       "  'num_points': 160,\n",
       "  'num_channels': 1,\n",
       "  'ic_config': 'fourier;5;true;true',\n",
       "  'num_warmup_steps': 500,\n",
       "  'num_train_samples': 50,\n",
       "  'train_temporal_horizon': 50,\n",
       "  'train_seed': 0,\n",
       "  'num_test_samples': 30,\n",
       "  'test_temporal_horizon': 200,\n",
       "  'test_seed': 773,\n",
       "  'optim_config': 'adam;10_000;warmup_cosine;0.0;1e-3;2_000',\n",
       "  'batch_size': 20,\n",
       "  'num_trjs_returned': 1,\n",
       "  'record_loss_every': 100,\n",
       "  'vlim': (-6.5, 6.5),\n",
       "  'report_metrics': 'mean_nRMSE,mean_correlation',\n",
       "  'callbacks': '',\n",
       "  'gammas': (0.0, 0.0, -1.2, 0.0, -15.0),\n",
       "  'deltas': (0.0, 0.0, -6.0),\n",
       "  'num_substeps': 1,\n",
       "  'coarse_proportion': 0.5,\n",
       "  'order': 2,\n",
       "  'dealiasing_fraction': 0.6666666666666666,\n",
       "  'num_circle_points': 16,\n",
       "  'circle_radius': 1.0,\n",
       "  'gradient_norm_delta': -6.0,\n",
       "  'diffusion_gamma': -1.2,\n",
       "  'hyp_diffusion_gamma': -15.0}}"
      ]
     },
     "execution_count": 13,
     "metadata": {},
     "output_type": "execute_result"
    }
   ],
   "source": [
    "meta_data_ks"
   ]
  },
  {
   "cell_type": "markdown",
   "metadata": {},
   "source": [
    "You can provide any keyword argument that matches the attributes of the scenario\n",
    "to modify the produced data. Let's decrease the resolution."
   ]
  },
  {
   "cell_type": "code",
   "execution_count": 14,
   "metadata": {},
   "outputs": [
    {
     "data": {
      "text/plain": [
       "(50, 51, 1, 64)"
      ]
     },
     "execution_count": 14,
     "metadata": {},
     "output_type": "execute_result"
    }
   ],
   "source": [
    "apebench.scraper.scrape_data_and_metadata(scenario=\"diff_ks\", num_points=64)[0].shape"
   ]
  },
  {
   "cell_type": "markdown",
   "metadata": {},
   "source": [
    "## Having the scraper write to disk\n",
    "\n",
    "If you provide a folder name, the scrape will not return the data but writes it\n",
    "as `.npy` files to disk and dumps the metadata as a JSON file."
   ]
  },
  {
   "cell_type": "code",
   "execution_count": 17,
   "metadata": {},
   "outputs": [],
   "source": [
    "# apebench.scraper.scrape_data_and_metadata(\".\", scenario=\"diff_ks\")\n",
    "# Creates the following files:\n",
    "# 1d_diff_ks_train.npy\n",
    "# 1d_diff_ks_test.npy\n",
    "# 1d_diff_ks.json"
   ]
  },
  {
   "cell_type": "markdown",
   "metadata": {},
   "source": [
    "## Creating a collection of datasets\n",
    "\n",
    "You can loop over a list of dictionaries that contain scenarios and additional\n",
    "attributes to create a collection of datasets.\n",
    "\n",
    "Your scenario name must match the short identifier as detailed in `apebench.scenarios.scenario_dict`."
   ]
  },
  {
   "cell_type": "code",
   "execution_count": 20,
   "metadata": {},
   "outputs": [],
   "source": [
    "# scenario_list = [\n",
    "#     {\"scenario\": \"diff_adv\", \"num_train_samples\": 81},\n",
    "#     {\"scenario\": \"diff_ks\", \"num_points\": 64},\n",
    "# ]\n",
    "\n",
    "# for scenario in scenario_list:\n",
    "#     apebench.scraper.scrape_data_and_metadata(\".\", **scenario)"
   ]
  },
  {
   "cell_type": "markdown",
   "metadata": {},
   "source": [
    "## Export of curated lists\n",
    "\n",
    "APEBench comes with a curation of scenarios, for example the set of data used\n",
    "for the original APEBench paper.\n",
    "\n",
    "The export for `CURATION_APEBENCH_V1` should take ~3min on a modern GPU and should produce ~40GB of data."
   ]
  },
  {
   "cell_type": "code",
   "execution_count": 21,
   "metadata": {},
   "outputs": [
    {
     "name": "stderr",
     "output_type": "stream",
     "text": [
      "100%|██████████| 46/46 [02:59<00:00,  3.91s/it]\n"
     ]
    }
   ],
   "source": [
    "# from tqdm import tqdm\n",
    "# import os\n",
    "\n",
    "# DATA_PATH = \"data\"\n",
    "\n",
    "# os.makedirs(DATA_PATH, exist_ok=True)\n",
    "\n",
    "# for config in tqdm(apebench.scraper.CURATION_APEBENCH_V1):\n",
    "#     apebench.scraper.scrape_data_and_metadata(DATA_PATH, **config)"
   ]
  },
  {
   "cell_type": "code",
   "execution_count": null,
   "metadata": {},
   "outputs": [],
   "source": []
  }
 ],
 "metadata": {
  "kernelspec": {
   "display_name": "mkdocs",
   "language": "python",
   "name": "python3"
  },
  "language_info": {
   "codemirror_mode": {
    "name": "ipython",
    "version": 3
   },
   "file_extension": ".py",
   "mimetype": "text/x-python",
   "name": "python",
   "nbconvert_exporter": "python",
   "pygments_lexer": "ipython3",
   "version": "3.12.4"
  }
 },
 "nbformat": 4,
 "nbformat_minor": 2
}
