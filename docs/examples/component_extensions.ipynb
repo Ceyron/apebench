{
 "cells": [
  {
   "cell_type": "markdown",
   "metadata": {},
   "source": [
    "# Custom Extensions in APEBench - Example of a new metric\n",
    "\n",
    "This is an example of how to extend the components system in `APEBench`."
   ]
  },
  {
   "cell_type": "code",
   "execution_count": 1,
   "metadata": {},
   "outputs": [
    {
     "name": "stderr",
     "output_type": "stream",
     "text": [
      "/home/felix/miniconda3/envs/apebench_dev/lib/python3.12/site-packages/trainax/_general_trainer.py:7: TqdmWarning: IProgress not found. Please update jupyter and ipywidgets. See https://ipywidgets.readthedocs.io/en/stable/user_install.html\n",
      "  from tqdm.autonotebook import tqdm\n"
     ]
    }
   ],
   "source": [
    "import jax\n",
    "import jax.numpy as jnp\n",
    "import apebench\n",
    "import seaborn as sns"
   ]
  },
  {
   "cell_type": "markdown",
   "metadata": {},
   "source": [
    "Register a new entry in the corresponding dictionary of the component. Here,\n",
    "this is `apebench.components.metric_dict`. Ensure that your constructor complies\n",
    "with the required interface. Here, this is supposed to the a function which\n",
    "takes the `\"metric_config\"` (for example to supply further arguments to your\n",
    "metric). It must then return another function which processes a `pred` array and\n",
    "`ref` array to a scalar value. These arrays always have a leading batch axis\n",
    "(can be singleton), a subsequent channel axis (can be singleton), and then one,\n",
    "two, or three spatial axes for 1d, 2d, or 3d data, respectively.\n",
    "\n",
    "Let's implement a very unnecessary metric which computes the difference between\n",
    "the two arrays and extracts the zeroth-channel and third spatial point (assuming\n",
    "we are in 1d) and then takes the mean over the batch axis."
   ]
  },
  {
   "cell_type": "code",
   "execution_count": 2,
   "metadata": {},
   "outputs": [],
   "source": [
    "apebench.components.metric_dict[\n",
    "    \"my_crazy_metric\"\n",
    "] = lambda metric_config: lambda pred, ref: jnp.mean((pred - ref)[..., 0, 3])"
   ]
  },
  {
   "cell_type": "markdown",
   "metadata": {},
   "source": [
    "Let's instantiate the difficulty advection scenario, reduce the number of\n",
    "training steps to 100 (to have the notebook run quicker) and have this new\n",
    "metric as the only metric that is supposed to be reported."
   ]
  },
  {
   "cell_type": "code",
   "execution_count": 3,
   "metadata": {},
   "outputs": [],
   "source": [
    "adv_scene = apebench.scenarios.difficulty.Advection(\n",
    "    optim_config=\"adam;100;constant;1e-3\",\n",
    "    report_metrics=\"my_crazy_metric\",\n",
    ")"
   ]
  },
  {
   "cell_type": "markdown",
   "metadata": {},
   "source": [
    "Execute the scenario"
   ]
  },
  {
   "cell_type": "code",
   "execution_count": 4,
   "metadata": {},
   "outputs": [
    {
     "name": "stderr",
     "output_type": "stream",
     "text": [
      "E: 00000, B: 00099: 100%|██████████| 100/100 [00:06<00:00, 14.90it/s]\n"
     ]
    }
   ],
   "source": [
    "data, nets = adv_scene()"
   ]
  },
  {
   "cell_type": "markdown",
   "metadata": {},
   "source": [
    "Then we can melt the new metric out of the results"
   ]
  },
  {
   "cell_type": "code",
   "execution_count": 5,
   "metadata": {},
   "outputs": [],
   "source": [
    "metrics_data = apebench.melt_metrics(data, metric_name=\"my_crazy_metric\")"
   ]
  },
  {
   "cell_type": "code",
   "execution_count": 6,
   "metadata": {},
   "outputs": [
    {
     "data": {
      "text/html": [
       "<div>\n",
       "<style scoped>\n",
       "    .dataframe tbody tr th:only-of-type {\n",
       "        vertical-align: middle;\n",
       "    }\n",
       "\n",
       "    .dataframe tbody tr th {\n",
       "        vertical-align: top;\n",
       "    }\n",
       "\n",
       "    .dataframe thead th {\n",
       "        text-align: right;\n",
       "    }\n",
       "</style>\n",
       "<table border=\"1\" class=\"dataframe\">\n",
       "  <thead>\n",
       "    <tr style=\"text-align: right;\">\n",
       "      <th></th>\n",
       "      <th>seed</th>\n",
       "      <th>scenario</th>\n",
       "      <th>task</th>\n",
       "      <th>net</th>\n",
       "      <th>train</th>\n",
       "      <th>scenario_kwargs</th>\n",
       "      <th>time_step</th>\n",
       "      <th>my_crazy_metric</th>\n",
       "    </tr>\n",
       "  </thead>\n",
       "  <tbody>\n",
       "    <tr>\n",
       "      <th>0</th>\n",
       "      <td>0</td>\n",
       "      <td>1d_diff_adv</td>\n",
       "      <td>predict</td>\n",
       "      <td>Conv;34;10;relu</td>\n",
       "      <td>one</td>\n",
       "      <td>{}</td>\n",
       "      <td>1</td>\n",
       "      <td>0.004273</td>\n",
       "    </tr>\n",
       "    <tr>\n",
       "      <th>1</th>\n",
       "      <td>0</td>\n",
       "      <td>1d_diff_adv</td>\n",
       "      <td>predict</td>\n",
       "      <td>Conv;34;10;relu</td>\n",
       "      <td>one</td>\n",
       "      <td>{}</td>\n",
       "      <td>2</td>\n",
       "      <td>0.009067</td>\n",
       "    </tr>\n",
       "    <tr>\n",
       "      <th>2</th>\n",
       "      <td>0</td>\n",
       "      <td>1d_diff_adv</td>\n",
       "      <td>predict</td>\n",
       "      <td>Conv;34;10;relu</td>\n",
       "      <td>one</td>\n",
       "      <td>{}</td>\n",
       "      <td>3</td>\n",
       "      <td>0.012390</td>\n",
       "    </tr>\n",
       "    <tr>\n",
       "      <th>3</th>\n",
       "      <td>0</td>\n",
       "      <td>1d_diff_adv</td>\n",
       "      <td>predict</td>\n",
       "      <td>Conv;34;10;relu</td>\n",
       "      <td>one</td>\n",
       "      <td>{}</td>\n",
       "      <td>4</td>\n",
       "      <td>0.005566</td>\n",
       "    </tr>\n",
       "    <tr>\n",
       "      <th>4</th>\n",
       "      <td>0</td>\n",
       "      <td>1d_diff_adv</td>\n",
       "      <td>predict</td>\n",
       "      <td>Conv;34;10;relu</td>\n",
       "      <td>one</td>\n",
       "      <td>{}</td>\n",
       "      <td>5</td>\n",
       "      <td>-0.007298</td>\n",
       "    </tr>\n",
       "    <tr>\n",
       "      <th>...</th>\n",
       "      <td>...</td>\n",
       "      <td>...</td>\n",
       "      <td>...</td>\n",
       "      <td>...</td>\n",
       "      <td>...</td>\n",
       "      <td>...</td>\n",
       "      <td>...</td>\n",
       "      <td>...</td>\n",
       "    </tr>\n",
       "    <tr>\n",
       "      <th>195</th>\n",
       "      <td>0</td>\n",
       "      <td>1d_diff_adv</td>\n",
       "      <td>predict</td>\n",
       "      <td>Conv;34;10;relu</td>\n",
       "      <td>one</td>\n",
       "      <td>{}</td>\n",
       "      <td>196</td>\n",
       "      <td>0.631970</td>\n",
       "    </tr>\n",
       "    <tr>\n",
       "      <th>196</th>\n",
       "      <td>0</td>\n",
       "      <td>1d_diff_adv</td>\n",
       "      <td>predict</td>\n",
       "      <td>Conv;34;10;relu</td>\n",
       "      <td>one</td>\n",
       "      <td>{}</td>\n",
       "      <td>197</td>\n",
       "      <td>0.624528</td>\n",
       "    </tr>\n",
       "    <tr>\n",
       "      <th>197</th>\n",
       "      <td>0</td>\n",
       "      <td>1d_diff_adv</td>\n",
       "      <td>predict</td>\n",
       "      <td>Conv;34;10;relu</td>\n",
       "      <td>one</td>\n",
       "      <td>{}</td>\n",
       "      <td>198</td>\n",
       "      <td>0.637511</td>\n",
       "    </tr>\n",
       "    <tr>\n",
       "      <th>198</th>\n",
       "      <td>0</td>\n",
       "      <td>1d_diff_adv</td>\n",
       "      <td>predict</td>\n",
       "      <td>Conv;34;10;relu</td>\n",
       "      <td>one</td>\n",
       "      <td>{}</td>\n",
       "      <td>199</td>\n",
       "      <td>0.663936</td>\n",
       "    </tr>\n",
       "    <tr>\n",
       "      <th>199</th>\n",
       "      <td>0</td>\n",
       "      <td>1d_diff_adv</td>\n",
       "      <td>predict</td>\n",
       "      <td>Conv;34;10;relu</td>\n",
       "      <td>one</td>\n",
       "      <td>{}</td>\n",
       "      <td>200</td>\n",
       "      <td>0.684178</td>\n",
       "    </tr>\n",
       "  </tbody>\n",
       "</table>\n",
       "<p>200 rows × 8 columns</p>\n",
       "</div>"
      ],
      "text/plain": [
       "     seed     scenario     task              net train scenario_kwargs  \\\n",
       "0       0  1d_diff_adv  predict  Conv;34;10;relu   one              {}   \n",
       "1       0  1d_diff_adv  predict  Conv;34;10;relu   one              {}   \n",
       "2       0  1d_diff_adv  predict  Conv;34;10;relu   one              {}   \n",
       "3       0  1d_diff_adv  predict  Conv;34;10;relu   one              {}   \n",
       "4       0  1d_diff_adv  predict  Conv;34;10;relu   one              {}   \n",
       "..    ...          ...      ...              ...   ...             ...   \n",
       "195     0  1d_diff_adv  predict  Conv;34;10;relu   one              {}   \n",
       "196     0  1d_diff_adv  predict  Conv;34;10;relu   one              {}   \n",
       "197     0  1d_diff_adv  predict  Conv;34;10;relu   one              {}   \n",
       "198     0  1d_diff_adv  predict  Conv;34;10;relu   one              {}   \n",
       "199     0  1d_diff_adv  predict  Conv;34;10;relu   one              {}   \n",
       "\n",
       "     time_step  my_crazy_metric  \n",
       "0            1         0.004273  \n",
       "1            2         0.009067  \n",
       "2            3         0.012390  \n",
       "3            4         0.005566  \n",
       "4            5        -0.007298  \n",
       "..         ...              ...  \n",
       "195        196         0.631970  \n",
       "196        197         0.624528  \n",
       "197        198         0.637511  \n",
       "198        199         0.663936  \n",
       "199        200         0.684178  \n",
       "\n",
       "[200 rows x 8 columns]"
      ]
     },
     "execution_count": 6,
     "metadata": {},
     "output_type": "execute_result"
    }
   ],
   "source": [
    "metrics_data"
   ]
  },
  {
   "cell_type": "markdown",
   "metadata": {},
   "source": [
    "And visualize its rollout"
   ]
  },
  {
   "cell_type": "code",
   "execution_count": 7,
   "metadata": {},
   "outputs": [
    {
     "data": {
      "text/plain": [
       "<Axes: xlabel='time_step', ylabel='my_crazy_metric'>"
      ]
     },
     "execution_count": 7,
     "metadata": {},
     "output_type": "execute_result"
    },
    {
     "data": {
      "image/png": "[encoded data removed]",
      "text/plain": [
       "<Figure size 640x480 with 1 Axes>"
      ]
     },
     "metadata": {},
     "output_type": "display_data"
    }
   ],
   "source": [
    "sns.lineplot(\n",
    "    data=metrics_data,\n",
    "    x=\"time_step\",\n",
    "    y=\"my_crazy_metric\",\n",
    ")"
   ]
  },
  {
   "cell_type": "code",
   "execution_count": null,
   "metadata": {},
   "outputs": [],
   "source": []
  }
 ],
 "metadata": {
  "kernelspec": {
   "display_name": "apebench_dev",
   "language": "python",
   "name": "python3"
  },
  "language_info": {
   "codemirror_mode": {
    "name": "ipython",
    "version": 3
   },
   "file_extension": ".py",
   "mimetype": "text/x-python",
   "name": "python",
   "nbconvert_exporter": "python",
   "pygments_lexer": "ipython3",
   "version": "3.12.7"
  }
 },
 "nbformat": 4,
 "nbformat_minor": 2
}
