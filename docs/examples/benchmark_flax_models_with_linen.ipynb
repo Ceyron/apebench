{
 "cells": [
  {
   "cell_type": "markdown",
   "metadata": {},
   "source": [
    "# Benchmark `flax.linen` models with APEBench\n",
    "\n",
    "This tutorial notebook will be conceptually similar to [the one using the newer\n",
    "`flax.nnx` API](benchmark_flax_models_with_nnx.ipynb). For more comments, please\n",
    "refer to that notebook."
   ]
  },
  {
   "cell_type": "code",
   "execution_count": 1,
   "metadata": {},
   "outputs": [
    {
     "name": "stderr",
     "output_type": "stream",
     "text": [
      "/home/koehler/miniconda3/envs/apebench_dev/lib/python3.12/site-packages/trainax/_general_trainer.py:7: TqdmWarning: IProgress not found. Please update jupyter and ipywidgets. See https://ipywidgets.readthedocs.io/en/stable/user_install.html\n",
      "  from tqdm.autonotebook import tqdm\n"
     ]
    }
   ],
   "source": [
    "import apebench\n",
    "\n",
    "import numpy as np\n",
    "import jax\n",
    "import jax.numpy as jnp\n",
    "from flax import linen as nn\n",
    "from tqdm.autonotebook import tqdm\n",
    "import optax\n",
    "import matplotlib.pyplot as plt\n",
    "import seaborn as sns\n",
    "from scipy import stats"
   ]
  },
  {
   "cell_type": "markdown",
   "metadata": {},
   "source": [
    "## 1. Create Data with APEBench"
   ]
  },
  {
   "cell_type": "markdown",
   "metadata": {},
   "source": [
    "As an example, we will use an advection scenario in difficulty mode with mostly\n",
    "default settings."
   ]
  },
  {
   "cell_type": "code",
   "execution_count": 2,
   "metadata": {},
   "outputs": [],
   "source": [
    "advection_scenario = apebench.scenarios.difficulty.Advection(\n",
    "    # A simple optimization setup that will be mimicked by Flax\n",
    "    optim_config=\"adam;10_000;constant;1e-4\",\n",
    "    # The default metric for APEBench scenarios is always `\"mean_nRMSE\"`. Let's\n",
    "    # add some more metrics to the report. One based on the spectrum up until\n",
    "    # (including) the fifth mode and a Sobolev-based metric that also considers\n",
    "    # the first derivative.\n",
    "    report_metrics=\"mean_nRMSE,mean_fourier_nRMSE;0;5;0,mean_H1_nRMSE\",\n",
    ")"
   ]
  },
  {
   "cell_type": "markdown",
   "metadata": {},
   "source": [
    "Create train **trajectories** and test **initial conditions** with APEBench."
   ]
  },
  {
   "cell_type": "code",
   "execution_count": 3,
   "metadata": {},
   "outputs": [
    {
     "data": {
      "text/plain": [
       "((50, 51, 1, 160), (30, 1, 160))"
      ]
     },
     "execution_count": 3,
     "metadata": {},
     "output_type": "execute_result"
    }
   ],
   "source": [
    "train_data = advection_scenario.get_train_data()\n",
    "test_ic_set = advection_scenario.get_test_ic_set()\n",
    "train_data.shape, test_ic_set.shape"
   ]
  },
  {
   "cell_type": "markdown",
   "metadata": {},
   "source": [
    "## 2. Train `flax.linen` model"
   ]
  },
  {
   "cell_type": "markdown",
   "metadata": {},
   "source": [
    "### Rearrange data\n",
    "We have to rearrange our data to have the channels last convention"
   ]
  },
  {
   "cell_type": "code",
   "execution_count": 4,
   "metadata": {},
   "outputs": [
    {
     "data": {
      "text/plain": [
       "((50, 51, 160, 1), (30, 160, 1))"
      ]
     },
     "execution_count": 4,
     "metadata": {},
     "output_type": "execute_result"
    }
   ],
   "source": [
    "train_data = np.moveaxis(train_data, -2, -1)\n",
    "test_ic_set = np.moveaxis(test_ic_set, -2, -1)\n",
    "train_data.shape, test_ic_set.shape"
   ]
  },
  {
   "cell_type": "markdown",
   "metadata": {},
   "source": [
    "### Data preprocessing"
   ]
  },
  {
   "cell_type": "markdown",
   "metadata": {},
   "source": [
    "From here on, you are free to do with the `train_data` what you what. The\n",
    "simplest approach would be **one-step supervised learning**. For this, we slice\n",
    "windows of length two across both the trajectory and the time axis."
   ]
  },
  {
   "cell_type": "code",
   "execution_count": 5,
   "metadata": {},
   "outputs": [
    {
     "data": {
      "text/plain": [
       "(50, 50, 2, 160, 1)"
      ]
     },
     "execution_count": 5,
     "metadata": {},
     "output_type": "execute_result"
    }
   ],
   "source": [
    "substacked_data = jax.vmap(apebench.exponax.stack_sub_trajectories, in_axes=(0, None))(\n",
    "    train_data, 2\n",
    ")\n",
    "substacked_data.shape"
   ]
  },
  {
   "cell_type": "markdown",
   "metadata": {},
   "source": [
    "Then, we can merge sample and window axis into a joint batch axis."
   ]
  },
  {
   "cell_type": "code",
   "execution_count": 6,
   "metadata": {},
   "outputs": [
    {
     "data": {
      "text/plain": [
       "(2500, 2, 160, 1)"
      ]
     },
     "execution_count": 6,
     "metadata": {},
     "output_type": "execute_result"
    }
   ],
   "source": [
    "train_windows = jnp.concatenate(substacked_data)\n",
    "train_windows.shape"
   ]
  },
  {
   "cell_type": "markdown",
   "metadata": {},
   "source": [
    "### Model Definition"
   ]
  },
  {
   "cell_type": "markdown",
   "metadata": {},
   "source": [
    "Just a simple ReLU feedforward ConvNet."
   ]
  },
  {
   "cell_type": "code",
   "execution_count": 7,
   "metadata": {},
   "outputs": [],
   "source": [
    "class CNN(nn.Module):\n",
    "    depth: int\n",
    "    width: int\n",
    "\n",
    "    @nn.compact\n",
    "    def __call__(self, x):\n",
    "        x = nn.Conv(features=self.width, kernel_size=(3,), padding=\"CIRCULAR\")(x)\n",
    "        x = nn.relu(x)\n",
    "        for _ in range(self.depth - 1):\n",
    "            x = nn.Conv(features=self.width, kernel_size=(3,), padding=\"CIRCULAR\")(x)\n",
    "            x = nn.relu(x)\n",
    "        x = nn.Conv(features=1, kernel_size=(3,), padding=\"CIRCULAR\")(x)\n",
    "        return x"
   ]
  },
  {
   "cell_type": "markdown",
   "metadata": {},
   "source": [
    "### Training Loop\n",
    "\n",
    "Access the attributes of the APEBench scenario to use the same hyperparameters."
   ]
  },
  {
   "cell_type": "code",
   "execution_count": 8,
   "metadata": {},
   "outputs": [
    {
     "name": "stderr",
     "output_type": "stream",
     "text": [
      "10000it [00:13, 750.95it/s]\n"
     ]
    }
   ],
   "source": [
    "cnn = CNN(width=34, depth=10)\n",
    "params = cnn.init(jax.random.PRNGKey(0), train_windows[:, 0])\n",
    "optimizer = optax.adam(1e-4)\n",
    "opt_state = optimizer.init(params)\n",
    "\n",
    "\n",
    "def one_step_supervised_loss(params, batch):\n",
    "    inputs, targets = batch[:, 0], batch[:, 1]\n",
    "    predictions = cnn.apply(params, inputs)\n",
    "    return jnp.mean((predictions - targets) ** 2)\n",
    "\n",
    "\n",
    "@jax.jit\n",
    "def train_step(params, state, batch):\n",
    "    loss, grad = jax.value_and_grad(one_step_supervised_loss)(params, batch)\n",
    "    updates, new_opt_state = optimizer.update(grad, state)\n",
    "    new_params = optax.apply_updates(params, updates)\n",
    "    return new_params, new_opt_state, loss\n",
    "\n",
    "\n",
    "loss_history = []\n",
    "for batch in tqdm(\n",
    "    apebench.pdequinox.cycling_dataloader(\n",
    "        train_windows,\n",
    "        batch_size=20,\n",
    "        num_steps=10_000,\n",
    "        key=jax.random.PRNGKey(42),\n",
    "    )\n",
    "):\n",
    "    params, opt_state, loss = train_step(params, opt_state, batch)\n",
    "    loss_history.append(loss)"
   ]
  },
  {
   "cell_type": "markdown",
   "metadata": {},
   "source": [
    "Let's visualize the loss history. It's a bit noisy towards the end, but let's\n",
    "stick with a constant learning rate for simplicity."
   ]
  },
  {
   "cell_type": "code",
   "execution_count": 9,
   "metadata": {},
   "outputs": [
    {
     "data": {
      "text/plain": [
       "Text(0, 0.5, 'Train Loss')"
      ]
     },
     "execution_count": 9,
     "metadata": {},
     "output_type": "execute_result"
    },
    {
     "data": {
      "image/png": "[encoded data removed]",
      "text/plain": [
       "<Figure size 640x480 with 1 Axes>"
      ]
     },
     "metadata": {},
     "output_type": "display_data"
    }
   ],
   "source": [
    "plt.semilogy(loss_history)\n",
    "plt.xlabel(\"Update Step\")\n",
    "plt.ylabel(\"Train Loss\")"
   ]
  },
  {
   "cell_type": "markdown",
   "metadata": {},
   "source": [
    "## 3. Rollout the model"
   ]
  },
  {
   "cell_type": "markdown",
   "metadata": {},
   "source": [
    "Rolling out the model requires calling it autoregressively, i.e., feeding it\n",
    "based on its own output. This can be done by appending to a list and then\n",
    "calling `jnp.stack`. However, it is more efficient to use `jax.lax.scan` which\n",
    "is wrapped by `exponax.rollout`.\n",
    "\n",
    "⚠️ The neural rollout must be **without** the initial conditions."
   ]
  },
  {
   "cell_type": "code",
   "execution_count": 10,
   "metadata": {},
   "outputs": [
    {
     "data": {
      "text/plain": [
       "(200, 30, 160, 1)"
      ]
     },
     "execution_count": 10,
     "metadata": {},
     "output_type": "execute_result"
    }
   ],
   "source": [
    "neural_rollout = apebench.exponax.rollout(\n",
    "    lambda u: cnn.apply(params, u),\n",
    "    advection_scenario.test_temporal_horizon,  # 200\n",
    ")(test_ic_set)\n",
    "neural_rollout.shape"
   ]
  },
  {
   "cell_type": "markdown",
   "metadata": {},
   "source": [
    "## 4. Perform tests on the rollout"
   ]
  },
  {
   "cell_type": "markdown",
   "metadata": {},
   "source": [
    "### Rearrange data\n",
    "\n",
    "Requires to change channel and spatial axes. APEBench also follows the\n",
    "convention that the zeroth axis is the batch axis, and the next axis is for the\n",
    "temporal snapshots. This must also be adjusted."
   ]
  },
  {
   "cell_type": "code",
   "execution_count": 11,
   "metadata": {},
   "outputs": [
    {
     "data": {
      "text/plain": [
       "(30, 200, 1, 160)"
      ]
     },
     "execution_count": 11,
     "metadata": {},
     "output_type": "execute_result"
    }
   ],
   "source": [
    "# Change to format (batch, time, channels, spatial)\n",
    "neural_rollout = np.moveaxis(neural_rollout, 0, 1)\n",
    "neural_rollout = np.moveaxis(neural_rollout, -1, -2)\n",
    "neural_rollout.shape"
   ]
  },
  {
   "cell_type": "markdown",
   "metadata": {},
   "source": [
    "### Perform tests"
   ]
  },
  {
   "cell_type": "markdown",
   "metadata": {},
   "source": [
    "Our `neural_rollout` is now of a format supported by `scenario.perform_tests_on_rollout`."
   ]
  },
  {
   "cell_type": "code",
   "execution_count": 12,
   "metadata": {},
   "outputs": [],
   "source": [
    "test_dict = advection_scenario.perform_tests_on_rollout(neural_rollout)"
   ]
  },
  {
   "cell_type": "markdown",
   "metadata": {},
   "source": [
    "Now we find the same keys in the `test_dict` as set up for the `report_metrics`"
   ]
  },
  {
   "cell_type": "code",
   "execution_count": 13,
   "metadata": {},
   "outputs": [
    {
     "data": {
      "text/plain": [
       "(dict_keys(['mean_nRMSE', 'mean_fourier_nRMSE;0;5;0', 'mean_H1_nRMSE']),\n",
       " 'mean_nRMSE,mean_fourier_nRMSE;0;5;0,mean_H1_nRMSE')"
      ]
     },
     "execution_count": 13,
     "metadata": {},
     "output_type": "execute_result"
    }
   ],
   "source": [
    "test_dict.keys(), advection_scenario.report_metrics"
   ]
  },
  {
   "cell_type": "markdown",
   "metadata": {},
   "source": [
    "For each key, there is an array attached. It is of the shape `(num_seeds,\n",
    "test_temporal_horizon)`. Since, the `neural_rollout` did not have a leading\n",
    "`num_seeds` axis, this axis appears as singleton. The axis thereafter is due to\n",
    "the 200 time steps performed in the test."
   ]
  },
  {
   "cell_type": "code",
   "execution_count": 14,
   "metadata": {},
   "outputs": [
    {
     "name": "stdout",
     "output_type": "stream",
     "text": [
      "mean_nRMSE: (1, 200)\n",
      "mean_fourier_nRMSE;0;5;0: (1, 200)\n",
      "mean_H1_nRMSE: (1, 200)\n"
     ]
    }
   ],
   "source": [
    "for key, value in test_dict.items():\n",
    "    print(f\"{key}: {value.shape}\")"
   ]
  },
  {
   "cell_type": "markdown",
   "metadata": {},
   "source": [
    "### Rollout metrics"
   ]
  },
  {
   "cell_type": "markdown",
   "metadata": {},
   "source": [
    "Let's visualize the error over time. Metrics with a full spectrum, even more so\n",
    "the metric with derivatives (`\"mean_H1_nRMSE\"`) are worse, likely because\n",
    "**nonlinear** networks applied to linear time stepping problems produce spurious\n",
    "energy in higher modes. This is problematic since linear PDEs on periodic BCs\n",
    "remain bandlimited.\n",
    "\n",
    "However, this is not a problem of `flax.linen` but a general problem of neural\n",
    "emulators for linear PDEs. Hence, let's just acknowledge that the model performs\n",
    "reasonable for at least ~50 time steps which is remarkable since it was only\n",
    "trained to predict one step into the future and never multiple steps\n",
    "autoregressively."
   ]
  },
  {
   "cell_type": "code",
   "execution_count": 15,
   "metadata": {},
   "outputs": [
    {
     "data": {
      "text/plain": [
       "(-0.1, 1.1)"
      ]
     },
     "execution_count": 15,
     "metadata": {},
     "output_type": "execute_result"
    },
    {
     "data": {
      "image/png": "[encoded data removed]",
      "text/plain": [
       "<Figure size 640x480 with 1 Axes>"
      ]
     },
     "metadata": {},
     "output_type": "display_data"
    }
   ],
   "source": [
    "time_steps = jnp.arange(1, advection_scenario.test_temporal_horizon + 1)\n",
    "plt.plot(\n",
    "    time_steps,\n",
    "    test_dict[\"mean_nRMSE\"][0],\n",
    "    label=\"Mean nRMSE\",\n",
    ")\n",
    "plt.plot(\n",
    "    time_steps,\n",
    "    test_dict[\"mean_fourier_nRMSE;0;5;0\"][0],\n",
    "    label=\"Mean Fourier nRMSE - low freq\",\n",
    ")\n",
    "plt.plot(\n",
    "    time_steps,\n",
    "    test_dict[\"mean_H1_nRMSE\"][0],\n",
    "    label=\"Mean H1 nRMSE\",\n",
    ")\n",
    "plt.xlabel(\"Time Step\")\n",
    "plt.ylabel(\"error metric\")\n",
    "plt.legend()\n",
    "plt.grid()\n",
    "plt.ylim(-0.1, 1.1)"
   ]
  },
  {
   "cell_type": "markdown",
   "metadata": {},
   "source": [
    "### Aggregated Metrics"
   ]
  },
  {
   "cell_type": "markdown",
   "metadata": {},
   "source": [
    "Similar to the [APEBench paper](https://arxiv.org/abs/2411.00180), let us\n",
    "aggregate over the first 100 time steps with a geometric mean."
   ]
  },
  {
   "cell_type": "code",
   "execution_count": 16,
   "metadata": {},
   "outputs": [
    {
     "data": {
      "text/plain": [
       "{'mean_nRMSE': array([0.06692272], dtype=float32),\n",
       " 'mean_fourier_nRMSE;0;5;0': array([0.05657782], dtype=float32),\n",
       " 'mean_H1_nRMSE': array([0.17492542], dtype=float32)}"
      ]
     },
     "execution_count": 16,
     "metadata": {},
     "output_type": "execute_result"
    }
   ],
   "source": [
    "UP_TO = 100\n",
    "test_dict_gmean = {\n",
    "    key: stats.gmean(value[:, :UP_TO], axis=1) for key, value in test_dict.items()\n",
    "}\n",
    "test_dict_gmean"
   ]
  },
  {
   "cell_type": "code",
   "execution_count": null,
   "metadata": {},
   "outputs": [],
   "source": []
  }
 ],
 "metadata": {
  "kernelspec": {
   "display_name": "apebench_dev",
   "language": "python",
   "name": "python3"
  },
  "language_info": {
   "codemirror_mode": {
    "name": "ipython",
    "version": 3
   },
   "file_extension": ".py",
   "mimetype": "text/x-python",
   "name": "python",
   "nbconvert_exporter": "python",
   "pygments_lexer": "ipython3",
   "version": "3.12.7"
  }
 },
 "nbformat": 4,
 "nbformat_minor": 2
}
