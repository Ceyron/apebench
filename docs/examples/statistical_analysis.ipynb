{
 "cells": [
  {
   "cell_type": "markdown",
   "metadata": {},
   "source": [
    "# Statistical Analysis of emulator performance\n",
    "\n",
    "This notebook compares a feed-forward ConvNet and a FNO for emulating the 1D\n",
    "advection equation. A focus will be on using statistical hypothesis tests to\n",
    "answer which model is better, under which conditions.\n",
    "\n",
    "We will discuss the following:\n",
    "\n",
    "TODO"
   ]
  },
  {
   "cell_type": "code",
   "execution_count": null,
   "metadata": {},
   "outputs": [],
   "source": [
    "import apebench\n",
    "import seaborn as sns\n",
    "import matplotlib.pyplot as plt\n",
    "import equinox as eqx\n",
    "import exponax as ex\n",
    "import jax\n",
    "from scipy import stats\n",
    "import jax.numpy as jnp"
   ]
  },
  {
   "cell_type": "code",
   "execution_count": null,
   "metadata": {},
   "outputs": [],
   "source": [
    "CONFIGS = [\n",
    "    {\n",
    "        \"scenario\": \"diff_adv\",\n",
    "        \"task\": \"predict\",\n",
    "        \"net\": net,\n",
    "        \"train\": \"one\",\n",
    "        \"start_seed\": 0,\n",
    "        \"num_seeds\": 20,\n",
    "    }\n",
    "    for net in [\n",
    "        \"Conv;34;10;relu\",\n",
    "        \"FNO;12;18;4;gelu\",\n",
    "    ]\n",
    "]"
   ]
  },
  {
   "cell_type": "code",
   "execution_count": null,
   "metadata": {},
   "outputs": [],
   "source": [
    "(\n",
    "    df_metric,\n",
    "    df_loss,\n",
    "    _,\n",
    "    network_list,\n",
    ") = apebench.run_study_convenience(\n",
    "    CONFIGS,\n",
    "    \"statistical_analysis\",\n",
    "    do_loss=True,\n",
    ")"
   ]
  },
  {
   "cell_type": "code",
   "execution_count": null,
   "metadata": {},
   "outputs": [],
   "source": [
    "sns.lineplot(df_loss, x=\"update_step\", y=\"train_loss\", hue=\"net\")\n",
    "plt.yscale(\"log\")"
   ]
  },
  {
   "cell_type": "code",
   "execution_count": null,
   "metadata": {},
   "outputs": [],
   "source": [
    "sns.lineplot(df_metric, x=\"time_step\", y=\"mean_nRMSE\", hue=\"net\")"
   ]
  },
  {
   "cell_type": "code",
   "execution_count": null,
   "metadata": {},
   "outputs": [],
   "source": [
    "advection_scenario = apebench.scenarios.difficulty.Advection(\n",
    "    advection_gamma=2.0, num_test_samples=300\n",
    ")"
   ]
  },
  {
   "cell_type": "code",
   "execution_count": null,
   "metadata": {},
   "outputs": [],
   "source": [
    "fno_data, fno_models = advection_scenario(\n",
    "    network_config=\"FNO;12;18;4;gelu\",\n",
    "    num_seeds=20,\n",
    ")"
   ]
  },
  {
   "cell_type": "code",
   "execution_count": null,
   "metadata": {},
   "outputs": [],
   "source": [
    "fno_models"
   ]
  },
  {
   "cell_type": "code",
   "execution_count": null,
   "metadata": {},
   "outputs": [],
   "source": [
    "test_ic_set = advection_scenario.get_test_ic_set()\n",
    "test_trj = advection_scenario.get_test_data()\n",
    "test_trj_no_init = test_trj[:, 1:]"
   ]
  },
  {
   "cell_type": "code",
   "execution_count": null,
   "metadata": {},
   "outputs": [],
   "source": [
    "fno_rollout = eqx.filter_vmap(\n",
    "    lambda m: jax.vmap(ex.rollout(m, advection_scenario.test_temporal_horizon))(\n",
    "        test_ic_set\n",
    "    )\n",
    ")(fno_models)"
   ]
  },
  {
   "cell_type": "code",
   "execution_count": null,
   "metadata": {},
   "outputs": [],
   "source": [
    "fno_rollout.shape"
   ]
  },
  {
   "cell_type": "code",
   "execution_count": null,
   "metadata": {},
   "outputs": [],
   "source": [
    "test_trj.shape, test_trj_no_init.shape"
   ]
  },
  {
   "cell_type": "code",
   "execution_count": null,
   "metadata": {},
   "outputs": [],
   "source": [
    "metric_rollout = jax.vmap(\n",
    "    jax.vmap(jax.vmap(ex.metrics.nRMSE)),\n",
    "    in_axes=(0, None),\n",
    ")(fno_rollout, test_trj_no_init)"
   ]
  },
  {
   "cell_type": "code",
   "execution_count": null,
   "metadata": {},
   "outputs": [],
   "source": [
    "metric_rollout.shape"
   ]
  },
  {
   "cell_type": "code",
   "execution_count": null,
   "metadata": {},
   "outputs": [],
   "source": [
    "plt.hist(metric_rollout[0, :, 0])"
   ]
  },
  {
   "cell_type": "code",
   "execution_count": null,
   "metadata": {},
   "outputs": [],
   "source": [
    "p_value_for_normality = jnp.array(\n",
    "    [\n",
    "        [\n",
    "            stats.normaltest(metric_rollout[s, :, t]).pvalue\n",
    "            for t in range(advection_scenario.test_temporal_horizon)\n",
    "        ]\n",
    "        for s in range(20)\n",
    "    ]\n",
    ")"
   ]
  },
  {
   "cell_type": "markdown",
   "metadata": {},
   "source": [
    "For most seeds, most of the time snap shots, the distribution over the 30 test\n",
    "samples is likely not normally distributed.\n",
    "\n",
    "Well... actually, it is"
   ]
  },
  {
   "cell_type": "code",
   "execution_count": null,
   "metadata": {},
   "outputs": [],
   "source": [
    "plt.semilogy(p_value_for_normality[:20].T)\n",
    "plt.hlines(0.05, 0, 200, colors=\"r\", linestyles=\"--\", linewidth=3)"
   ]
  },
  {
   "cell_type": "code",
   "execution_count": null,
   "metadata": {},
   "outputs": [],
   "source": [
    "mean_metric_rollout = jnp.mean(metric_rollout, axis=1)"
   ]
  },
  {
   "cell_type": "code",
   "execution_count": null,
   "metadata": {},
   "outputs": [],
   "source": [
    "p_value_for_normality_mean = jnp.array(\n",
    "    [\n",
    "        stats.shapiro(mean_metric_rollout[:, t]).pvalue\n",
    "        for t in range(advection_scenario.test_temporal_horizon)\n",
    "    ]\n",
    ")"
   ]
  },
  {
   "cell_type": "code",
   "execution_count": null,
   "metadata": {},
   "outputs": [],
   "source": [
    "plt.plot(p_value_for_normality_mean)"
   ]
  },
  {
   "cell_type": "markdown",
   "metadata": {},
   "source": [
    "# Hence\n",
    "we might need a non-parametric test to compare the two models???"
   ]
  },
  {
   "cell_type": "code",
   "execution_count": null,
   "metadata": {},
   "outputs": [],
   "source": []
  }
 ],
 "metadata": {
  "kernelspec": {
   "display_name": "apebench_dev",
   "language": "python",
   "name": "python3"
  },
  "language_info": {
   "codemirror_mode": {
    "name": "ipython",
    "version": 3
   },
   "file_extension": ".py",
   "mimetype": "text/x-python",
   "name": "python",
   "nbconvert_exporter": "python",
   "pygments_lexer": "ipython3",
   "version": "3.12.7"
  }
 },
 "nbformat": 4,
 "nbformat_minor": 2
}
